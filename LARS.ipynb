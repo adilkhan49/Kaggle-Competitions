{
 "cells": [
  {
   "cell_type": "code",
   "execution_count": 1,
   "metadata": {},
   "outputs": [],
   "source": [
    "#LARS.ipynb Least Angle Regression algorithm for Predicting Wine Taste"
   ]
  },
  {
   "cell_type": "code",
   "execution_count": 2,
   "metadata": {},
   "outputs": [],
   "source": [
    "\n",
    "import numpy as np\n",
    "from sklearn import datasets, linear_model\n",
    "import matplotlib.pyplot as plt\n",
    "\n",
    "#Functions\n",
    "\n",
    "def mean(list):\n",
    "    return sum(list)/len(list)\n",
    "\n",
    "def sd(list):\n",
    "    diff2 = [(list[i]-mean(list))**2 for i in range(len(list))]\n",
    "    return (sum(diff2)/len(list))**0.5\n",
    "   \n",
    "def LARS(x, y, steps=350, stepsize=0.004):\n",
    "    \n",
    "    #Find mean, sd, z of data\n",
    "\n",
    "    nrows = len(x)\n",
    "    ncols = len(x[0])\n",
    "\n",
    "    colmean=[mean(np.transpose(x)[i]) for i in range(ncols)]\n",
    "    labelsmean=mean(y)\n",
    "\n",
    "    colsd=[sd(np.transpose(x)[i]) for i in range(ncols)]\n",
    "    labelssd=sd(y) \n",
    "    \n",
    "    dataZ=[]\n",
    "    for i in range(nrows):\n",
    "        rowZ = [(x[i][j]-colmean[j])/colsd[j] for j  in range(ncols)]\n",
    "        dataZ.append(rowZ)\n",
    "\n",
    "    labelsZ = [(y[i]-labelsmean)/labelssd for i in range(nrows)]\n",
    "\n",
    "#Initialise beta\n",
    "\n",
    "    beta = [0.0]*ncols\n",
    "\n",
    "#Initialise matrix of betas at each step\n",
    "\n",
    "    betaMat = []\n",
    "    betaMat.append(list(beta))\n",
    "\n",
    "#Number of steps to take\n",
    "\n",
    "    error = []*steps\n",
    "    for i in range(steps):\n",
    "\n",
    "    #Calculate Residuals - Residual(row) = normalised residual\n",
    "        residuals=[0.0] * nrows\n",
    "        for j in range(nrows):\n",
    "            residuals[j] = labelsZ[j]-sum([dataZ[j][k]*beta[k] for k in range(ncols)])\n",
    "\n",
    "    #Calculate correlations for each column = sum(dataZ(row)*res(row)) / nrow\n",
    "        corr = [0.0]*ncols\n",
    "        for j in range(ncols):\n",
    "            corr[j] = sum([dataZ[k][j]*residuals[k] for k in range(nrows)])/nrows\n",
    "\n",
    "    #Column with highest correlation\n",
    "        iStar = 0   \n",
    "        corrStar = corr[0] \n",
    "        for j in range(1,ncols):\n",
    "            if abs(corrStar)<abs(corr[j]):\n",
    "                iStar = j   \n",
    "                corrStar = corr[j]\n",
    "\n",
    "    #Increment by stepsizeif positive correlation, or decrement if negative correlation\n",
    "        beta[iStar] += stepsize * corrStar /abs(corrStar)\n",
    "        betaMat.append(list(beta))\n",
    "        Error = sum([abs(residuals[j]) for j in range(nrows)])\n",
    "        error.append(Error)\n",
    "\n",
    "    for i in range(ncols):\n",
    "        coefCurve = [betaMat[k] for k in range(steps)]\n",
    "        xaxis = range(steps)\n",
    "        plt.plot(xaxis, coefCurve)\n",
    "    plt.xlabel(\"Step\")\n",
    "    plt.ylabel(\"Coefficient Values\")\n",
    "    plt.show()\n",
    "\n",
    "    return betaMat, error, "
   ]
  },
  {
   "cell_type": "code",
   "execution_count": 3,
   "metadata": {},
   "outputs": [],
   "source": [
    "#Clean data\n",
    "\n",
    "path = '/Users/Adil/Documents/Data Science/Machine Learning/wines'\n",
    "data = open(path).read()\n",
    "data=data.splitlines()\n",
    "data.pop(0)\n",
    "for i in range(len(data)):\n",
    "    data[i]=data[i].split(';')\n",
    "    for j in range(len(data[i])):\n",
    "        data[i][j]=float(data[i][j])\n",
    "\n",
    "labels = [data[i][-1] for i in range(len(data))]\n",
    "for i in range(len(data)):\n",
    "    data[i].pop()"
   ]
  },
  {
   "cell_type": "code",
   "execution_count": 4,
   "metadata": {},
   "outputs": [
    {
     "data": {
      "image/png": "[encoded data removed]",
      "text/plain": [
       "<matplotlib.figure.Figure at 0x1129cf390>"
      ]
     },
     "metadata": {},
     "output_type": "display_data"
    }
   ],
   "source": [
    "b, e = LARS(data, labels)"
   ]
  },
  {
   "cell_type": "code",
   "execution_count": 7,
   "metadata": {},
   "outputs": [
    {
     "data": {
      "text/plain": [
       "1353.1260550952752"
      ]
     },
     "execution_count": 7,
     "metadata": {},
     "output_type": "execute_result"
    }
   ],
   "source": [
    "e[0]"
   ]
  },
  {
   "cell_type": "code",
   "execution_count": null,
   "metadata": {},
   "outputs": [],
   "source": []
  }
 ],
 "metadata": {
  "kernelspec": {
   "display_name": "Python 3",
   "language": "python",
   "name": "python3"
  },
  "language_info": {
   "codemirror_mode": {
    "name": "ipython",
    "version": 3
   },
   "file_extension": ".py",
   "mimetype": "text/x-python",
   "name": "python",
   "nbconvert_exporter": "python",
   "pygments_lexer": "ipython3",
   "version": "3.6.4"
  }
 },
 "nbformat": 4,
 "nbformat_minor": 2
}
